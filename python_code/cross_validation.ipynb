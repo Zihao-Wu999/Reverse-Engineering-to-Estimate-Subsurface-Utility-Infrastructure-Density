{
 "cells": [
  {
   "cell_type": "code",
   "execution_count": 1,
   "id": "8a0b3a55",
   "metadata": {},
   "outputs": [
    {
     "data": {
      "image/png": "[encoded data removed]",
      "text/plain": [
       "<Figure size 432x288 with 1 Axes>"
      ]
     },
     "metadata": {
      "needs_background": "light"
     },
     "output_type": "display_data"
    }
   ],
   "source": [
    "import matplotlib.pyplot as plt\n",
    "import numpy as np\n",
    "import warnings\n",
    "warnings.filterwarnings('ignore')\n",
    "# data\n",
    "x_str = np.array(['BK01', 'BK02', 'BK03', 'BK04', 'BK05','BK06'])\n",
    "x_num = np.arange(len(x_str))\n",
    "\n",
    "#this two lines are the density value we got from Rhino and ArcGIS PRO, since the scale is different, we need to normalize them.\n",
    "\n",
    "y1 = np.array([36.81836569, 65.73728729, 39.77941479, 34.1031122, 30.61089658,38.41869853])\n",
    "y2 = np.array([1.466339946,2.510099888,1.695279956,1.33671999,0.813844025,1.441550016])\n",
    "y1_std = (y1 - np.mean(y1)) / np.std(y1)\n",
    "y2_std = (y2 - np.mean(y2)) / np.std(y2)\n",
    "# plot\n",
    "fig, ax = plt.subplots()\n",
    "ax.bar(x_num - 0.2, y1_std, width=0.4, label='ratio from Rhino')\n",
    "ax.bar(x_num + 0.2, y2_std, width=0.4, label='ratio from Pluto')\n",
    "ax.set_xticks(x_num)\n",
    "ax.set_xticklabels(x_str)\n",
    "ax.legend()\n",
    "plt.show()\n",
    "#visualize\n",
    "plt.show()"
   ]
  },
  {
   "cell_type": "code",
   "execution_count": 2,
   "id": "691b8231",
   "metadata": {},
   "outputs": [],
   "source": [
    "y1_multiplier =  y1/y1[-1]\n",
    "y2_multiplier =  y2/y2[-1] "
   ]
  },
  {
   "cell_type": "code",
   "execution_count": 3,
   "id": "67f9753c",
   "metadata": {},
   "outputs": [
    {
     "data": {
      "image/png": "[encoded data removed]",
      "text/plain": [
       "<Figure size 432x288 with 1 Axes>"
      ]
     },
     "metadata": {
      "needs_background": "light"
     },
     "output_type": "display_data"
    }
   ],
   "source": [
    "fig, ax = plt.subplots()\n",
    "ax.bar(x_num - 0.2, y1_multiplier, width=0.4, label='ratio from Rhino')\n",
    "ax.bar(x_num + 0.2, y2_multiplier, width=0.4, label='ratio from Pluto')\n",
    "ax.set_xticks(x_num)\n",
    "ax.set_xticklabels(x_str)\n",
    "ax.legend()\n",
    "plt.show()"
   ]
  },
  {
   "cell_type": "code",
   "execution_count": 9,
   "id": "4e18e7fb",
   "metadata": {},
   "outputs": [],
   "source": [
    "from scipy.stats import ks_2samp"
   ]
  },
  {
   "cell_type": "markdown",
   "id": "1a7234f5",
   "metadata": {},
   "source": [
    "### Using Kolmogorov-Smirnov Test\n",
    "### null hypothesis: the two data sets follow the same distribution at 0.05 significance.\n",
    "### If the p value is less than 0.05, we can reject the null hypothesis.\n",
    "### If the p value is greater than 0.05, we cannot reject the null hypothesis. Hence, the two data sets follow the same distribution."
   ]
  },
  {
   "cell_type": "code",
   "execution_count": 10,
   "id": "2673c351",
   "metadata": {},
   "outputs": [
    {
     "name": "stdout",
     "output_type": "stream",
     "text": [
      "KS statistic： 0.3333333333333333\n",
      "P value： 0.9307359307359307\n"
     ]
    }
   ],
   "source": [
    "ks_statistic, p_value = ks_2samp(y1_std, y2_std)\n",
    "\n",
    "print(\"KS statistic：\", ks_statistic)\n",
    "print(\"P value：\", p_value)"
   ]
  },
  {
   "cell_type": "markdown",
   "id": "634884b6",
   "metadata": {},
   "source": [
    "$$ Density = \\frac{Volume}{Bottom\\ area} $$"
   ]
  },
  {
   "cell_type": "markdown",
   "id": "3dad6bba",
   "metadata": {},
   "source": [
    "$$ Density = \\frac{Building\\ area}{Lot\\ area} $$"
   ]
  },
  {
   "cell_type": "markdown",
   "id": "61af2cbd",
   "metadata": {},
   "source": [
    "## Most of my work is done by ArcGIS PRO which is a highly interactive software and I used some query sentences using SQL and Python but cannot be uploaded. In Python, my work is to test if the two results from two data set is roughly the same or not. The result shows that the two ratio is the same."
   ]
  }
 ],
 "metadata": {
  "kernelspec": {
   "display_name": "Python 3",
   "language": "python",
   "name": "python3"
  },
  "language_info": {
   "codemirror_mode": {
    "name": "ipython",
    "version": 3
   },
   "file_extension": ".py",
   "mimetype": "text/x-python",
   "name": "python",
   "nbconvert_exporter": "python",
   "pygments_lexer": "ipython3",
   "version": "3.9.11"
  }
 },
 "nbformat": 4,
 "nbformat_minor": 5
}
